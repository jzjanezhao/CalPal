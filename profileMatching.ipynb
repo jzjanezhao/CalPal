import pandas as pd
from sklearn.preprocessing import StandardScaler, LabelEncoder
from sklearn.cluster import KMeans
from sklearn.metrics import silhouette_score
import matplotlib.pyplot as plt

# Load the dataset from profiles.csv
df = pd.read_csv('profiles.csv')

# Drop the 'Name' column as it is non-numeric and unnecessary for clustering
df = df.drop(columns=['Name'])

# Encoding 'Budget' as it's categorical
label_encoder = LabelEncoder()
df['Budget'] = label_encoder.fit_transform(df['Budget'])

# One-hot encode categorical columns (except 'Budget' and 'Age')
df = pd.get_dummies(df, columns=['Gender', 'Religion', 'Sexuality', 'Interest 1', 'Interest 2', 'Interest 3', 'Place', 'Area'])

# Scale numerical features like Age 
scaler = StandardScaler()
df[['Age']] = scaler.fit_transform(df[['Age']])

# Try different numbers of clusters and calculate the silhouette score
silhouette_scores = []
cluster_range = range(2, 11)  # We typically try from 2 to 10 clusters

for n_clusters in cluster_range:
    kmeans = KMeans(n_clusters=n_clusters, random_state=0)
    df['Cluster'] = kmeans.fit_predict(df)
    
    score = silhouette_score(df, df['Cluster'])
    silhouette_scores.append(score)

# Plot Silhouette Scores to visualize the optimal number of clusters
plt.plot(cluster_range, silhouette_scores, marker='o')
plt.xlabel('Number of Clusters')
plt.ylabel('Silhouette Score')
plt.title('Silhouette Score for Different Numbers of Clusters')
plt.show()

# Output the optimal number of clusters
optimal_clusters = cluster_range[silhouette_scores.index(max(silhouette_scores))]
print(f"The optimal number of clusters is {optimal_clusters} with a Silhouette Score of {max(silhouette_scores)}.")
